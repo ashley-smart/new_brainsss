{
 "cells": [
  {
   "cell_type": "code",
   "execution_count": 18,
   "metadata": {},
   "outputs": [
    {
     "name": "stdout",
     "output_type": "stream",
     "text": [
      "a 1\n",
      "ERROR: No appropriate flyid found in \"something_else\"\n",
      "b None\n"
     ]
    }
   ],
   "source": [
    "folder_1 = 'fly1_20sblahblah_func-001'\n",
    "folder_2 = 'fly1_20smorestuff_anat-003'\n",
    "test_1 = 'something_else'\n",
    "\n",
    "def get_fly_number (file):\n",
    "    \"\"\"looks for \"fly\" in file and returns number following\"\"\"\n",
    "    if 'fly' not in file or '_' not in file:\n",
    "        print(f'ERROR: No appropriate flyid found in \"{file}\"')\n",
    "        return None\n",
    "    else:\n",
    "        number_start = file.find('fly') + 3\n",
    "        first_hyphen = file.find('_')\n",
    "        number = file[number_start:first_hyphen]\n",
    "        return number\n",
    "   \n",
    "\n",
    "A = get_fly_number(folder_1)\n",
    "print('a', A)\n",
    "B = get_fly_number(test_1)\n",
    "\n",
    "\n",
    "print('b', B)"
   ]
  },
  {
   "cell_type": "code",
   "execution_count": 21,
   "metadata": {},
   "outputs": [
    {
     "name": "stdout",
     "output_type": "stream",
     "text": [
      "('/home/users/asmart/projects/new_brainsss', 'scripts')\n",
      "/home/users/asmart/projects/new_brainsss\n"
     ]
    }
   ],
   "source": [
    "path = '/home/users/asmart/projects/new_brainsss/scripts'\n",
    "print(os.path.split(path))\n",
    "print(os.path.dirname(path))"
   ]
  },
  {
   "cell_type": "code",
   "execution_count": 19,
   "metadata": {},
   "outputs": [
    {
     "ename": "NameError",
     "evalue": "name '__file__' is not defined",
     "output_type": "error",
     "traceback": [
      "\u001b[1;31m---------------------------------------------------------------------------\u001b[0m",
      "\u001b[1;31mNameError\u001b[0m                                 Traceback (most recent call last)",
      "\u001b[1;32m<ipython-input-19-6e4a6efb01fc>\u001b[0m in \u001b[0;36m<module>\u001b[1;34m\u001b[0m\n\u001b[0;32m      1\u001b[0m \u001b[1;32mimport\u001b[0m \u001b[0msys\u001b[0m\u001b[1;33m\u001b[0m\u001b[1;33m\u001b[0m\u001b[0m\n\u001b[0;32m      2\u001b[0m \u001b[1;32mimport\u001b[0m \u001b[0mos\u001b[0m\u001b[1;33m\u001b[0m\u001b[1;33m\u001b[0m\u001b[0m\n\u001b[1;32m----> 3\u001b[1;33m \u001b[0mprint\u001b[0m\u001b[1;33m(\u001b[0m\u001b[0mos\u001b[0m\u001b[1;33m.\u001b[0m\u001b[0mpath\u001b[0m\u001b[1;33m.\u001b[0m\u001b[0msplit\u001b[0m\u001b[1;33m(\u001b[0m\u001b[0mos\u001b[0m\u001b[1;33m.\u001b[0m\u001b[0mpath\u001b[0m\u001b[1;33m.\u001b[0m\u001b[0mdirname\u001b[0m\u001b[1;33m(\u001b[0m\u001b[0m__file__\u001b[0m\u001b[1;33m)\u001b[0m\u001b[1;33m)\u001b[0m\u001b[1;33m[\u001b[0m\u001b[1;36m0\u001b[0m\u001b[1;33m]\u001b[0m\u001b[1;33m)\u001b[0m\u001b[1;33m\u001b[0m\u001b[1;33m\u001b[0m\u001b[0m\n\u001b[0m",
      "\u001b[1;31mNameError\u001b[0m: name '__file__' is not defined"
     ]
    }
   ],
   "source": [
    "import sys\n",
    "import os\n",
    "#print(os.path.split(os.path.dirname(__file__))[0])"
   ]
  },
  {
   "cell_type": "code",
   "execution_count": 1,
   "metadata": {},
   "outputs": [
    {
     "name": "stderr",
     "output_type": "stream",
     "text": [
      "c:\\Users\\ashsm\\Anaconda3\\envs\\cme193\\lib\\site-packages\\numpy\\_distributor_init.py:32: UserWarning: loaded more than 1 DLL from .libs:\n",
      "c:\\Users\\ashsm\\Anaconda3\\envs\\cme193\\lib\\site-packages\\numpy\\.libs\\libopenblas.IPBC74C7KURV7CB2PKT5Z5FNR3SIBV4J.gfortran-win_amd64.dll\n",
      "c:\\Users\\ashsm\\Anaconda3\\envs\\cme193\\lib\\site-packages\\numpy\\.libs\\libopenblas.WCDJNK7YVMPZQ2ME2ZZHJJRJ3JIKNDB7.gfortran-win_amd64.dll\n",
      "  stacklevel=1)\n"
     ]
    }
   ],
   "source": [
    "import numpy as np"
   ]
  },
  {
   "cell_type": "code",
   "execution_count": 27,
   "metadata": {},
   "outputs": [
    {
     "name": "stdout",
     "output_type": "stream",
     "text": [
      "(2, 2, 4, 2)\n",
      "[[[[1 1]\n",
      "   [2 2]\n",
      "   [3 3]\n",
      "   [4 4]]\n",
      "\n",
      "  [[1 1]\n",
      "   [2 2]\n",
      "   [3 3]\n",
      "   [4 4]]]\n",
      "\n",
      "\n",
      " [[[1 1]\n",
      "   [2 2]\n",
      "   [3 3]\n",
      "   [4 4]]\n",
      "\n",
      "  [[1 1]\n",
      "   [2 2]\n",
      "   [3 3]\n",
      "   [4 4]]]]\n",
      "[[[[nan]\n",
      "   [nan]\n",
      "   [nan]\n",
      "   [nan]]\n",
      "\n",
      "  [[nan]\n",
      "   [nan]\n",
      "   [nan]\n",
      "   [nan]]]\n",
      "\n",
      "\n",
      " [[[nan]\n",
      "   [nan]\n",
      "   [nan]\n",
      "   [nan]]\n",
      "\n",
      "  [[nan]\n",
      "   [nan]\n",
      "   [nan]\n",
      "   [nan]]]]\n",
      "(2, 2, 4, 1)\n",
      "[[[[ 1.  1. nan]\n",
      "   [ 2.  2. nan]\n",
      "   [ 3.  3. nan]\n",
      "   [ 4.  4. nan]]\n",
      "\n",
      "  [[ 1.  1. nan]\n",
      "   [ 2.  2. nan]\n",
      "   [ 3.  3. nan]\n",
      "   [ 4.  4. nan]]]\n",
      "\n",
      "\n",
      " [[[ 1.  1. nan]\n",
      "   [ 2.  2. nan]\n",
      "   [ 3.  3. nan]\n",
      "   [ 4.  4. nan]]\n",
      "\n",
      "  [[ 1.  1. nan]\n",
      "   [ 2.  2. nan]\n",
      "   [ 3.  3. nan]\n",
      "   [ 4.  4. nan]]]]\n",
      "(2, 2, 4, 3)\n",
      "[[[ 1.  1. nan  1.  1. nan]\n",
      "  [ 2.  2. nan  2.  2. nan]\n",
      "  [ 3.  3. nan  3.  3. nan]\n",
      "  [ 4.  4. nan  4.  4. nan]]\n",
      "\n",
      " [[ 1.  1. nan  1.  1. nan]\n",
      "  [ 2.  2. nan  2.  2. nan]\n",
      "  [ 3.  3. nan  3.  3. nan]\n",
      "  [ 4.  4. nan  4.  4. nan]]]\n",
      "(2, 4, 6)\n"
     ]
    }
   ],
   "source": [
    "a = [[[[1,1],[2,2],[3,3], [4,4]], [[1,1],[2,2],[3,3], [4,4]]], [[[1,1],[2,2],[3,3], [4,4]], [[1,1],[2,2],[3,3], [4,4]]]]\n",
    "a = np.array(a)\n",
    "print(np.shape(a))\n",
    "print(a)\n",
    "shape = np.shape(a)\n",
    "\n",
    "blank = np.empty((shape[0], shape[1], shape[2],1)) * np.nan\n",
    "print(blank)\n",
    "print(np.shape(blank))\n",
    "\n",
    "new_a = np.append(a,blank, axis =3)\n",
    "print(new_a)\n",
    "print(np.shape(new_a))\n",
    "#print(np.insert(a, -1, blank), axis = 3)\n",
    "\n",
    "stitch_a = np.concatenate(new_a, axis = -1)\n",
    "print(stitch_a)\n",
    "print(np.shape(stitch_a))\n"
   ]
  }
 ],
 "metadata": {
  "kernelspec": {
   "display_name": "Python (3.6-cme193)",
   "language": "python",
   "name": "cme193"
  },
  "language_info": {
   "codemirror_mode": {
    "name": "ipython",
    "version": 3
   },
   "file_extension": ".py",
   "mimetype": "text/x-python",
   "name": "python",
   "nbconvert_exporter": "python",
   "pygments_lexer": "ipython3",
   "version": "3.6.8"
  },
  "orig_nbformat": 4
 },
 "nbformat": 4,
 "nbformat_minor": 2
}
