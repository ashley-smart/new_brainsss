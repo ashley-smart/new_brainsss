{
 "cells": [
  {
   "cell_type": "code",
   "execution_count": 18,
   "metadata": {},
   "outputs": [
    {
     "name": "stdout",
     "output_type": "stream",
     "text": [
      "a 1\n",
      "ERROR: No appropriate flyid found in \"something_else\"\n",
      "b None\n"
     ]
    }
   ],
   "source": [
    "folder_1 = 'fly1_20sblahblah_func-001'\n",
    "folder_2 = 'fly1_20smorestuff_anat-003'\n",
    "test_1 = 'something_else'\n",
    "\n",
    "def get_fly_number (file):\n",
    "    \"\"\"looks for \"fly\" in file and returns number following\"\"\"\n",
    "    if 'fly' not in file or '_' not in file:\n",
    "        print(f'ERROR: No appropriate flyid found in \"{file}\"')\n",
    "        return None\n",
    "    else:\n",
    "        number_start = file.find('fly') + 3\n",
    "        first_hyphen = file.find('_')\n",
    "        number = file[number_start:first_hyphen]\n",
    "        return number\n",
    "   \n",
    "\n",
    "A = get_fly_number(folder_1)\n",
    "print('a', A)\n",
    "B = get_fly_number(test_1)\n",
    "\n",
    "\n",
    "print('b', B)"
   ]
  }
 ],
 "metadata": {
  "kernelspec": {
   "display_name": "Python (3.6-cme193)",
   "language": "python",
   "name": "cme193"
  },
  "language_info": {
   "codemirror_mode": {
    "name": "ipython",
    "version": 3
   },
   "file_extension": ".py",
   "mimetype": "text/x-python",
   "name": "python",
   "nbconvert_exporter": "python",
   "pygments_lexer": "ipython3",
   "version": "3.6.8"
  },
  "orig_nbformat": 4
 },
 "nbformat": 4,
 "nbformat_minor": 2
}
